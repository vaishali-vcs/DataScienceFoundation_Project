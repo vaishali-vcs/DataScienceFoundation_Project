{
 "cells": [
  {
   "cell_type": "markdown",
   "metadata": {},
   "source": [
    "# Purpose\n",
    "This code is used to filter the average temperature for the Countries present in the Suicide Dataset.<br>\n",
    "We have dropped the unnecessary columns and the processed file is saved as **cleaned_temperature_data.csv**\n",
    "\n",
    "Data Source: Kaggle\n",
    "Data format: csv\n",
    "Features:\n",
    "- dt: dattime column\n",
    "- AverageTemperature: temperature of the country\n",
    "- AverageTemperatureUncertainty:: temperature of the country\n",
    "- Country\n",
    "\n",
    "features of the cleaned dataset:\n",
    "- AverageTemperature\n",
    "- Country"
   ]
  },
  {
   "cell_type": "code",
   "execution_count": 11,
   "metadata": {},
   "outputs": [],
   "source": [
    "import pandas as pd\n",
    "\n",
    "countries = ['Albania', 'Antigua and Barbuda', 'Argentina', 'Armenia', 'Aruba', 'Australia', 'Austria', 'Azerbaijan', 'Bahamas', 'Bahrain', 'Barbados', 'Belarus', 'Belgium', 'Belize', 'Brazil', 'Bulgaria', 'Canada', 'Chile', 'Colombia', 'Costa Rica', 'Croatia', 'Cuba', 'Cyprus', 'Czech Republic', 'Denmark', 'Ecuador', 'El Salvador', 'Estonia', 'Fiji', 'Finland', 'France', 'Georgia', 'Germany', 'Greece', 'Grenada', 'Guatemala', 'Guyana', 'Hungary', 'Iceland', 'Ireland', 'Israel', 'Italy', 'Jamaica', 'Japan', 'Kazakhstan', 'Kiribati', 'Kuwait', 'Kyrgyzstan', 'Latvia', 'Lithuania', 'Luxembourg', 'Maldives', 'Malta', 'Mauritius', 'Mexico', 'Montenegro', 'Netherlands', 'New Zealand', 'Nicaragua', 'Norway', 'Panama', 'Paraguay', 'Philippines', 'Poland', 'Portugal', 'Puerto Rico', 'Qatar', 'Republic of Korea', 'Romania', 'Russian Federation', 'Saint Lucia', 'Saint Vincent and Grenadines', 'Serbia', 'Seychelles', 'Singapore', 'Slovakia', 'Slovenia', 'South Africa', 'Spain', 'Sri Lanka', 'Suriname', 'Sweden', 'Switzerland', 'Thailand', 'Trinidad and Tobago', 'Turkey', 'Turkmenistan', 'Ukraine', 'United Arab Emirates', 'United Kingdom', 'United States', 'Uruguay', 'Uzbekistan']"
   ]
  },
  {
   "cell_type": "code",
   "execution_count": 12,
   "metadata": {},
   "outputs": [],
   "source": [
    "country_year_temperature_data = pd.read_csv('./temperature_data.csv')\n",
    "\n",
    "country_year_temperature_data['Year'] = country_year_temperature_data['dt'].apply(lambda x: x.split('-')[0])\n",
    "country_year_temperature_data.drop(columns='dt', inplace=True)\n",
    "country_year_temperature_data.drop(columns='AverageTemperatureUncertainty', inplace=True)\n",
    "country_year_temperature_data.drop(columns='Year', inplace=True)\n",
    "\n",
    "country_year_temperature_data = country_year_temperature_data[country_year_temperature_data.Country.isin(countries)]"
   ]
  },
  {
   "cell_type": "code",
   "execution_count": 13,
   "metadata": {},
   "outputs": [
    {
     "name": "stdout",
     "output_type": "stream",
     "text": [
      "<class 'pandas.core.frame.DataFrame'>\n",
      "Int64Index: 230648 entries, 7310 to 562338\n",
      "Data columns (total 2 columns):\n",
      "AverageTemperature    220691 non-null float64\n",
      "Country               230648 non-null object\n",
      "dtypes: float64(1), object(1)\n",
      "memory usage: 5.3+ MB\n"
     ]
    }
   ],
   "source": [
    "country_year_temperature_data.info()\n",
    "\n",
    "country_year_temperature_data.to_csv('./cleaned_temperature_data.csv')"
   ]
  },
  {
   "cell_type": "code",
   "execution_count": null,
   "metadata": {},
   "outputs": [],
   "source": []
  }
 ],
 "metadata": {
  "kernelspec": {
   "display_name": "Python 3",
   "language": "python",
   "name": "python3"
  },
  "language_info": {
   "codemirror_mode": {
    "name": "ipython",
    "version": 3
   },
   "file_extension": ".py",
   "mimetype": "text/x-python",
   "name": "python",
   "nbconvert_exporter": "python",
   "pygments_lexer": "ipython3",
   "version": "3.7.1"
  }
 },
 "nbformat": 4,
 "nbformat_minor": 2
}
